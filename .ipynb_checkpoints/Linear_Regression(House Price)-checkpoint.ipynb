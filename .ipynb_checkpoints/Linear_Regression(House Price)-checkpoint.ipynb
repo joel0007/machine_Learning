{
 "cells": [
  {
   "cell_type": "markdown",
   "id": "e2f42d73-1c5c-4b52-9ae6-03c9f8c3a45a",
   "metadata": {},
   "source": [
    "## Necesssary Python Library are imported inside the notebook"
   ]
  },
  {
   "cell_type": "code",
   "execution_count": 2,
   "id": "2ab66bdd-5c42-411a-9337-c459cca6adf2",
   "metadata": {},
   "outputs": [],
   "source": [
    "import pandas as pd\n",
    "import numpy as np\n",
    "from ydata_profiling import ProfileReport\n",
    "from sklearn import preprocessing   \n",
    "import seaborn as sns\n",
    "import matplotlib.pyplot as plt\n",
    "from sklearn.preprocessing import StandardScaler\n",
    "from sklearn.model_selection import train_test_split\n",
    "from sklearn.linear_model import LinearRegression\n",
    "from sklearn.metrics import r2_score\n",
    "from sklearn.metrics import mean_squared_error"
   ]
  },
  {
   "cell_type": "markdown",
   "id": "a4b6da96-e400-41d1-b375-a871f13da515",
   "metadata": {},
   "source": [
    "### The dataset is imported and the null value datas is being removed so that the data can be proceed for the Data Visualization and Machine Learning"
   ]
  },
  {
   "cell_type": "code",
   "execution_count": 3,
   "id": "f9c943ad-abe1-4b37-8c75-4a04cec2762e",
   "metadata": {},
   "outputs": [
    {
     "ename": "FileNotFoundError",
     "evalue": "[Errno 2] No such file or directory: 'train-chennai-sale.csv'",
     "output_type": "error",
     "traceback": [
      "\u001b[1;31m---------------------------------------------------------------------------\u001b[0m",
      "\u001b[1;31mFileNotFoundError\u001b[0m                         Traceback (most recent call last)",
      "Cell \u001b[1;32mIn[3], line 1\u001b[0m\n\u001b[1;32m----> 1\u001b[0m chennai_data \u001b[38;5;241m=\u001b[39m pd\u001b[38;5;241m.\u001b[39mread_csv(\u001b[38;5;124m'\u001b[39m\u001b[38;5;124mtrain-chennai-sale.csv\u001b[39m\u001b[38;5;124m'\u001b[39m)\n\u001b[0;32m      2\u001b[0m chennai_data \u001b[38;5;241m=\u001b[39m chennai_data\u001b[38;5;241m.\u001b[39mdropna(how\u001b[38;5;241m=\u001b[39m\u001b[38;5;124m'\u001b[39m\u001b[38;5;124many\u001b[39m\u001b[38;5;124m'\u001b[39m)\n\u001b[0;32m      3\u001b[0m chennai_data\u001b[38;5;241m.\u001b[39mcolumns\n",
      "File \u001b[1;32m~\\anaconda3\\Lib\\site-packages\\pandas\\io\\parsers\\readers.py:1026\u001b[0m, in \u001b[0;36mread_csv\u001b[1;34m(filepath_or_buffer, sep, delimiter, header, names, index_col, usecols, dtype, engine, converters, true_values, false_values, skipinitialspace, skiprows, skipfooter, nrows, na_values, keep_default_na, na_filter, verbose, skip_blank_lines, parse_dates, infer_datetime_format, keep_date_col, date_parser, date_format, dayfirst, cache_dates, iterator, chunksize, compression, thousands, decimal, lineterminator, quotechar, quoting, doublequote, escapechar, comment, encoding, encoding_errors, dialect, on_bad_lines, delim_whitespace, low_memory, memory_map, float_precision, storage_options, dtype_backend)\u001b[0m\n\u001b[0;32m   1013\u001b[0m kwds_defaults \u001b[38;5;241m=\u001b[39m _refine_defaults_read(\n\u001b[0;32m   1014\u001b[0m     dialect,\n\u001b[0;32m   1015\u001b[0m     delimiter,\n\u001b[1;32m   (...)\u001b[0m\n\u001b[0;32m   1022\u001b[0m     dtype_backend\u001b[38;5;241m=\u001b[39mdtype_backend,\n\u001b[0;32m   1023\u001b[0m )\n\u001b[0;32m   1024\u001b[0m kwds\u001b[38;5;241m.\u001b[39mupdate(kwds_defaults)\n\u001b[1;32m-> 1026\u001b[0m \u001b[38;5;28;01mreturn\u001b[39;00m _read(filepath_or_buffer, kwds)\n",
      "File \u001b[1;32m~\\anaconda3\\Lib\\site-packages\\pandas\\io\\parsers\\readers.py:620\u001b[0m, in \u001b[0;36m_read\u001b[1;34m(filepath_or_buffer, kwds)\u001b[0m\n\u001b[0;32m    617\u001b[0m _validate_names(kwds\u001b[38;5;241m.\u001b[39mget(\u001b[38;5;124m\"\u001b[39m\u001b[38;5;124mnames\u001b[39m\u001b[38;5;124m\"\u001b[39m, \u001b[38;5;28;01mNone\u001b[39;00m))\n\u001b[0;32m    619\u001b[0m \u001b[38;5;66;03m# Create the parser.\u001b[39;00m\n\u001b[1;32m--> 620\u001b[0m parser \u001b[38;5;241m=\u001b[39m TextFileReader(filepath_or_buffer, \u001b[38;5;241m*\u001b[39m\u001b[38;5;241m*\u001b[39mkwds)\n\u001b[0;32m    622\u001b[0m \u001b[38;5;28;01mif\u001b[39;00m chunksize \u001b[38;5;129;01mor\u001b[39;00m iterator:\n\u001b[0;32m    623\u001b[0m     \u001b[38;5;28;01mreturn\u001b[39;00m parser\n",
      "File \u001b[1;32m~\\anaconda3\\Lib\\site-packages\\pandas\\io\\parsers\\readers.py:1620\u001b[0m, in \u001b[0;36mTextFileReader.__init__\u001b[1;34m(self, f, engine, **kwds)\u001b[0m\n\u001b[0;32m   1617\u001b[0m     \u001b[38;5;28mself\u001b[39m\u001b[38;5;241m.\u001b[39moptions[\u001b[38;5;124m\"\u001b[39m\u001b[38;5;124mhas_index_names\u001b[39m\u001b[38;5;124m\"\u001b[39m] \u001b[38;5;241m=\u001b[39m kwds[\u001b[38;5;124m\"\u001b[39m\u001b[38;5;124mhas_index_names\u001b[39m\u001b[38;5;124m\"\u001b[39m]\n\u001b[0;32m   1619\u001b[0m \u001b[38;5;28mself\u001b[39m\u001b[38;5;241m.\u001b[39mhandles: IOHandles \u001b[38;5;241m|\u001b[39m \u001b[38;5;28;01mNone\u001b[39;00m \u001b[38;5;241m=\u001b[39m \u001b[38;5;28;01mNone\u001b[39;00m\n\u001b[1;32m-> 1620\u001b[0m \u001b[38;5;28mself\u001b[39m\u001b[38;5;241m.\u001b[39m_engine \u001b[38;5;241m=\u001b[39m \u001b[38;5;28mself\u001b[39m\u001b[38;5;241m.\u001b[39m_make_engine(f, \u001b[38;5;28mself\u001b[39m\u001b[38;5;241m.\u001b[39mengine)\n",
      "File \u001b[1;32m~\\anaconda3\\Lib\\site-packages\\pandas\\io\\parsers\\readers.py:1880\u001b[0m, in \u001b[0;36mTextFileReader._make_engine\u001b[1;34m(self, f, engine)\u001b[0m\n\u001b[0;32m   1878\u001b[0m     \u001b[38;5;28;01mif\u001b[39;00m \u001b[38;5;124m\"\u001b[39m\u001b[38;5;124mb\u001b[39m\u001b[38;5;124m\"\u001b[39m \u001b[38;5;129;01mnot\u001b[39;00m \u001b[38;5;129;01min\u001b[39;00m mode:\n\u001b[0;32m   1879\u001b[0m         mode \u001b[38;5;241m+\u001b[39m\u001b[38;5;241m=\u001b[39m \u001b[38;5;124m\"\u001b[39m\u001b[38;5;124mb\u001b[39m\u001b[38;5;124m\"\u001b[39m\n\u001b[1;32m-> 1880\u001b[0m \u001b[38;5;28mself\u001b[39m\u001b[38;5;241m.\u001b[39mhandles \u001b[38;5;241m=\u001b[39m get_handle(\n\u001b[0;32m   1881\u001b[0m     f,\n\u001b[0;32m   1882\u001b[0m     mode,\n\u001b[0;32m   1883\u001b[0m     encoding\u001b[38;5;241m=\u001b[39m\u001b[38;5;28mself\u001b[39m\u001b[38;5;241m.\u001b[39moptions\u001b[38;5;241m.\u001b[39mget(\u001b[38;5;124m\"\u001b[39m\u001b[38;5;124mencoding\u001b[39m\u001b[38;5;124m\"\u001b[39m, \u001b[38;5;28;01mNone\u001b[39;00m),\n\u001b[0;32m   1884\u001b[0m     compression\u001b[38;5;241m=\u001b[39m\u001b[38;5;28mself\u001b[39m\u001b[38;5;241m.\u001b[39moptions\u001b[38;5;241m.\u001b[39mget(\u001b[38;5;124m\"\u001b[39m\u001b[38;5;124mcompression\u001b[39m\u001b[38;5;124m\"\u001b[39m, \u001b[38;5;28;01mNone\u001b[39;00m),\n\u001b[0;32m   1885\u001b[0m     memory_map\u001b[38;5;241m=\u001b[39m\u001b[38;5;28mself\u001b[39m\u001b[38;5;241m.\u001b[39moptions\u001b[38;5;241m.\u001b[39mget(\u001b[38;5;124m\"\u001b[39m\u001b[38;5;124mmemory_map\u001b[39m\u001b[38;5;124m\"\u001b[39m, \u001b[38;5;28;01mFalse\u001b[39;00m),\n\u001b[0;32m   1886\u001b[0m     is_text\u001b[38;5;241m=\u001b[39mis_text,\n\u001b[0;32m   1887\u001b[0m     errors\u001b[38;5;241m=\u001b[39m\u001b[38;5;28mself\u001b[39m\u001b[38;5;241m.\u001b[39moptions\u001b[38;5;241m.\u001b[39mget(\u001b[38;5;124m\"\u001b[39m\u001b[38;5;124mencoding_errors\u001b[39m\u001b[38;5;124m\"\u001b[39m, \u001b[38;5;124m\"\u001b[39m\u001b[38;5;124mstrict\u001b[39m\u001b[38;5;124m\"\u001b[39m),\n\u001b[0;32m   1888\u001b[0m     storage_options\u001b[38;5;241m=\u001b[39m\u001b[38;5;28mself\u001b[39m\u001b[38;5;241m.\u001b[39moptions\u001b[38;5;241m.\u001b[39mget(\u001b[38;5;124m\"\u001b[39m\u001b[38;5;124mstorage_options\u001b[39m\u001b[38;5;124m\"\u001b[39m, \u001b[38;5;28;01mNone\u001b[39;00m),\n\u001b[0;32m   1889\u001b[0m )\n\u001b[0;32m   1890\u001b[0m \u001b[38;5;28;01massert\u001b[39;00m \u001b[38;5;28mself\u001b[39m\u001b[38;5;241m.\u001b[39mhandles \u001b[38;5;129;01mis\u001b[39;00m \u001b[38;5;129;01mnot\u001b[39;00m \u001b[38;5;28;01mNone\u001b[39;00m\n\u001b[0;32m   1891\u001b[0m f \u001b[38;5;241m=\u001b[39m \u001b[38;5;28mself\u001b[39m\u001b[38;5;241m.\u001b[39mhandles\u001b[38;5;241m.\u001b[39mhandle\n",
      "File \u001b[1;32m~\\anaconda3\\Lib\\site-packages\\pandas\\io\\common.py:873\u001b[0m, in \u001b[0;36mget_handle\u001b[1;34m(path_or_buf, mode, encoding, compression, memory_map, is_text, errors, storage_options)\u001b[0m\n\u001b[0;32m    868\u001b[0m \u001b[38;5;28;01melif\u001b[39;00m \u001b[38;5;28misinstance\u001b[39m(handle, \u001b[38;5;28mstr\u001b[39m):\n\u001b[0;32m    869\u001b[0m     \u001b[38;5;66;03m# Check whether the filename is to be opened in binary mode.\u001b[39;00m\n\u001b[0;32m    870\u001b[0m     \u001b[38;5;66;03m# Binary mode does not support 'encoding' and 'newline'.\u001b[39;00m\n\u001b[0;32m    871\u001b[0m     \u001b[38;5;28;01mif\u001b[39;00m ioargs\u001b[38;5;241m.\u001b[39mencoding \u001b[38;5;129;01mand\u001b[39;00m \u001b[38;5;124m\"\u001b[39m\u001b[38;5;124mb\u001b[39m\u001b[38;5;124m\"\u001b[39m \u001b[38;5;129;01mnot\u001b[39;00m \u001b[38;5;129;01min\u001b[39;00m ioargs\u001b[38;5;241m.\u001b[39mmode:\n\u001b[0;32m    872\u001b[0m         \u001b[38;5;66;03m# Encoding\u001b[39;00m\n\u001b[1;32m--> 873\u001b[0m         handle \u001b[38;5;241m=\u001b[39m \u001b[38;5;28mopen\u001b[39m(\n\u001b[0;32m    874\u001b[0m             handle,\n\u001b[0;32m    875\u001b[0m             ioargs\u001b[38;5;241m.\u001b[39mmode,\n\u001b[0;32m    876\u001b[0m             encoding\u001b[38;5;241m=\u001b[39mioargs\u001b[38;5;241m.\u001b[39mencoding,\n\u001b[0;32m    877\u001b[0m             errors\u001b[38;5;241m=\u001b[39merrors,\n\u001b[0;32m    878\u001b[0m             newline\u001b[38;5;241m=\u001b[39m\u001b[38;5;124m\"\u001b[39m\u001b[38;5;124m\"\u001b[39m,\n\u001b[0;32m    879\u001b[0m         )\n\u001b[0;32m    880\u001b[0m     \u001b[38;5;28;01melse\u001b[39;00m:\n\u001b[0;32m    881\u001b[0m         \u001b[38;5;66;03m# Binary mode\u001b[39;00m\n\u001b[0;32m    882\u001b[0m         handle \u001b[38;5;241m=\u001b[39m \u001b[38;5;28mopen\u001b[39m(handle, ioargs\u001b[38;5;241m.\u001b[39mmode)\n",
      "\u001b[1;31mFileNotFoundError\u001b[0m: [Errno 2] No such file or directory: 'train-chennai-sale.csv'"
     ]
    }
   ],
   "source": [
    "chennai_data = pd.read_csv(\"C:/Users/joelb/OneDrive/Documents/Datasets/train-chennai-sale.xls\")\n",
    "chennai_data = chennai_data.dropna(how='any')\n",
    "chennai_data.columns"
   ]
  },
  {
   "cell_type": "code",
   "execution_count": null,
   "id": "37a33bdb-dfe8-45fe-a509-97ce62766cd7",
   "metadata": {},
   "outputs": [],
   "source": [
    "chennai_data.describe()"
   ]
  },
  {
   "cell_type": "markdown",
   "id": "3be928a4-16cf-467d-9387-55e8c18f7e36",
   "metadata": {},
   "source": [
    "### The data is being copied to another varibale using swallow copy as this method does not affect the original data"
   ]
  },
  {
   "cell_type": "code",
   "execution_count": null,
   "id": "dd975663-4d44-4e8f-b009-2f167ab40d9e",
   "metadata": {},
   "outputs": [],
   "source": [
    "updated_cd = chennai_data.copy()"
   ]
  },
  {
   "cell_type": "code",
   "execution_count": null,
   "id": "0ebf0e99-a0d9-498f-9741-d5c28b2cee93",
   "metadata": {},
   "outputs": [],
   "source": [
    "updated_cd.head()"
   ]
  },
  {
   "cell_type": "markdown",
   "id": "15fec337-80da-430e-9fad-0c1ee720f990",
   "metadata": {},
   "source": [
    "### The Time Difference between the Date of Sale and the Date of Build is compared so that it will be helpful in our analytics"
   ]
  },
  {
   "cell_type": "code",
   "execution_count": null,
   "id": "cacdedb2-f9d0-4250-88c8-0762d8b41401",
   "metadata": {},
   "outputs": [],
   "source": [
    "updated_cd['Time_Difference'] = (pd.to_datetime(updated_cd['DATE_SALE']) - pd.to_datetime(updated_cd['DATE_BUILD'])).dt.days\n",
    "updated_cd['Time_Difference'] = updated_cd['Time_Difference']/365"
   ]
  },
  {
   "cell_type": "code",
   "execution_count": null,
   "id": "d926e323-48d5-45fa-82d4-b4182e7b0652",
   "metadata": {},
   "outputs": [],
   "source": [
    "updated_cd"
   ]
  },
  {
   "cell_type": "code",
   "execution_count": null,
   "id": "3f42e357-c35c-482a-b02e-2a89c133ea59",
   "metadata": {},
   "outputs": [],
   "source": [
    "updated_cd['Total_Price'] = updated_cd['REG_FEE']+updated_cd['COMMIS']+updated_cd['SALES_PRICE']"
   ]
  },
  {
   "cell_type": "code",
   "execution_count": null,
   "id": "392f2934-94f3-4f0d-9891-357242d54a33",
   "metadata": {},
   "outputs": [],
   "source": [
    "updated_cd = updated_cd.drop(['PRT_ID', 'INF_PRICE', '1+0.04', 'POWER(Z,Y)'], axis=1)"
   ]
  },
  {
   "cell_type": "code",
   "execution_count": null,
   "id": "c9245c94-5a97-40c0-be9d-75d6322065c2",
   "metadata": {},
   "outputs": [],
   "source": [
    "updated_cd['DS_Year'] = updated_cd['DATE_SALE'].str[-4:]\n",
    "updated_cd['DS_Month'] = updated_cd['DATE_SALE'].str[3:5]\n",
    "updated_cd['DS_Day'] = updated_cd['DATE_SALE'].str[0:2]"
   ]
  },
  {
   "cell_type": "code",
   "execution_count": null,
   "id": "cbe016be-0013-43fe-87b7-0e6de5a698ba",
   "metadata": {},
   "outputs": [],
   "source": [
    "updated_cd['DB_Year'] = updated_cd['DATE_BUILD'].str[-4:]\n",
    "updated_cd['DB_Month'] = updated_cd['DATE_BUILD'].str[3:5]\n",
    "updated_cd['DB_Day'] = updated_cd['DATE_BUILD'].str[0:2]"
   ]
  },
  {
   "cell_type": "markdown",
   "id": "3a0a75ae-6653-4b15-b50d-cb382108b6ac",
   "metadata": {},
   "source": [
    "### Here i used a python library called ydata_profiling, as this library can be used for showing the analytics report of the overall data and the individual column. This data can be exported into html file for further reference."
   ]
  },
  {
   "cell_type": "code",
   "execution_count": null,
   "id": "6960e8c7-ae2d-4e93-86d7-9114d2387c3b",
   "metadata": {},
   "outputs": [],
   "source": [
    "profile = ProfileReport(updated_cd, title=\"Profiling Report\")\n",
    "profile\n",
    "#profile.to_file(\"chennai_sales_profile_report.html\")"
   ]
  },
  {
   "cell_type": "code",
   "execution_count": null,
   "id": "2e13a662-b121-47d5-a31b-3786bc52bb61",
   "metadata": {},
   "outputs": [],
   "source": [
    "updated_cd"
   ]
  },
  {
   "cell_type": "code",
   "execution_count": null,
   "id": "ba6e002a-1c2b-47ea-abce-2d55736480a3",
   "metadata": {},
   "outputs": [],
   "source": [
    "total_price_by_area = updated_cd.groupby('AREA')['Total_Price'].sum().reset_index()\n",
    "total_price_by_area = total_price_by_area.sort_values(by='Total_Price', ascending=False)\n",
    "print(total_price_by_area)"
   ]
  },
  {
   "cell_type": "code",
   "execution_count": null,
   "id": "2b8a404d-2624-486d-8a4a-34386e761967",
   "metadata": {},
   "outputs": [],
   "source": [
    "plt.figure(figsize=(10, 6))\n",
    "plt.bar(total_price_by_area['AREA'], total_price_by_area['Total_Price'], color='skyblue')\n",
    "plt.title('Total Price by Area')\n",
    "plt.xlabel('Area')\n",
    "plt.ylabel('Total Price')\n",
    "plt.xticks(rotation=45)\n",
    "plt.show()"
   ]
  },
  {
   "cell_type": "code",
   "execution_count": null,
   "id": "9e5c77d8-98a0-4306-8c28-962acd16cb00",
   "metadata": {},
   "outputs": [],
   "source": [
    "time_difference = updated_cd.sort_values(by='Time_Difference', ascending=False).head(5)\n",
    "time_difference"
   ]
  },
  {
   "cell_type": "markdown",
   "id": "6f57dcfc-36a6-4eb7-a538-517e37f4145d",
   "metadata": {},
   "source": [
    "# Machine Learning(Linear Regression)"
   ]
  },
  {
   "cell_type": "code",
   "execution_count": null,
   "id": "2da9f60e-67fe-4d83-ad61-f410ab12ca70",
   "metadata": {},
   "outputs": [],
   "source": [
    "ml_data = updated_cd.copy()"
   ]
  },
  {
   "cell_type": "code",
   "execution_count": null,
   "id": "74470510-cfa0-4409-8670-a49fbaef9711",
   "metadata": {},
   "outputs": [],
   "source": [
    "ml_data.columns"
   ]
  },
  {
   "cell_type": "markdown",
   "id": "19bf00f8-350a-4f21-8088-ee9eeb473290",
   "metadata": {},
   "source": [
    "### The below columns are removed from the data as this is not suitable for the machine learning, features is selected manually based on the understanding of the data"
   ]
  },
  {
   "cell_type": "code",
   "execution_count": null,
   "id": "ea792f10-b9da-4278-bafe-51b8c07ffc4c",
   "metadata": {},
   "outputs": [],
   "source": [
    "ml_data = ml_data.drop(columns=['DATE_SALE', 'DATE_BUILD', 'REG_FEE', 'COMMIS', 'SALES_PRICE','DS_Month', 'DS_Year','DS_Day', 'DB_Year', 'DB_Month', 'DB_Day'])"
   ]
  },
  {
   "cell_type": "code",
   "execution_count": null,
   "id": "5263c5ff-ba44-4fd9-8e22-689484a1faec",
   "metadata": {},
   "outputs": [],
   "source": [
    "ml_data"
   ]
  },
  {
   "cell_type": "code",
   "execution_count": null,
   "id": "181a02f7-bc49-48c2-a63c-87e5e99a1fef",
   "metadata": {},
   "outputs": [],
   "source": [
    "le = preprocessing.LabelEncoder() "
   ]
  },
  {
   "cell_type": "code",
   "execution_count": null,
   "id": "a68b0101-84ca-4fec-bf52-eb53caf5bef4",
   "metadata": {},
   "outputs": [],
   "source": [
    "ml_data['AREA'] = le.fit_transform(ml_data['AREA'])\n",
    "ml_data['SALE_COND'] = le.fit_transform(ml_data['SALE_COND'])\n",
    "ml_data['PARK_FACIL'] = le.fit_transform(ml_data['PARK_FACIL'])\n",
    "ml_data['BUILDTYPE'] = le.fit_transform(ml_data['BUILDTYPE'])\n",
    "ml_data['UTILITY_AVAIL'] = le.fit_transform(ml_data['UTILITY_AVAIL'])\n",
    "ml_data['STREET'] = le.fit_transform(ml_data['STREET'])\n",
    "ml_data['MZZONE'] = le.fit_transform(ml_data['MZZONE'])"
   ]
  },
  {
   "cell_type": "code",
   "execution_count": null,
   "id": "7ce4649b-3363-4c60-a80b-011d09a0926d",
   "metadata": {},
   "outputs": [],
   "source": [
    "ml_data"
   ]
  },
  {
   "cell_type": "code",
   "execution_count": null,
   "id": "50933c98-8f57-427c-9503-b1c3ab3ee2db",
   "metadata": {},
   "outputs": [],
   "source": [
    "ml_data.corr()"
   ]
  },
  {
   "cell_type": "code",
   "execution_count": null,
   "id": "a80c8c91-7dea-4734-abfb-1bdd2c654baa",
   "metadata": {},
   "outputs": [],
   "source": [
    "ml_data.describe()"
   ]
  },
  {
   "cell_type": "markdown",
   "id": "299dc833-fc92-4f16-acba-62e8432dae6f",
   "metadata": {},
   "source": [
    "### In the above describe we can see that for INT_SQFT and Total_Sale alone we have more difference between the min and max. Before proceeding with the Standard Scaling, we can see the data distribution in Box Plot and Histogram. From this, the Scaling needs to be done on the Total_Sale as the data range is more and for Linear Regression Model it is best to do scaling before model fit."
   ]
  },
  {
   "cell_type": "code",
   "execution_count": null,
   "id": "64db719f-8f4d-4614-ba69-b4e0abba0536",
   "metadata": {},
   "outputs": [],
   "source": [
    "# Create a box plot\n",
    "plt.figure(figsize=(10, 6))\n",
    "sns.boxplot(data=ml_data['INT_SQFT'])\n",
    "plt.title('Box Plot of Square Feet')\n",
    "plt.show()"
   ]
  },
  {
   "cell_type": "code",
   "execution_count": null,
   "id": "b60387ee-5225-40e8-8519-8c54022839ed",
   "metadata": {},
   "outputs": [],
   "source": [
    "plt.figure(figsize=(10, 6))\n",
    "sns.boxplot(data=ml_data['Total_Price'])\n",
    "plt.title('Box Plot of Features')\n",
    "plt.show()"
   ]
  },
  {
   "cell_type": "code",
   "execution_count": null,
   "id": "dfd53186-bfac-4f09-9718-da3caec90a50",
   "metadata": {},
   "outputs": [],
   "source": [
    "plt.figure(figsize=(8, 6))\n",
    "plt.hist(ml_data['Total_Price'], bins=20, edgecolor='black')\n",
    "plt.title('Histogram of Total_Price')\n",
    "plt.xlabel('Total_Price')\n",
    "plt.ylabel('Frequency')\n",
    "plt.show()"
   ]
  },
  {
   "cell_type": "code",
   "execution_count": null,
   "id": "a57a49b4-610d-4af6-b42b-4cffc4202416",
   "metadata": {},
   "outputs": [],
   "source": [
    "ml_data.isnull().sum()"
   ]
  },
  {
   "cell_type": "code",
   "execution_count": null,
   "id": "57ad00c2-96d5-4e43-901d-8b1fea319189",
   "metadata": {},
   "outputs": [],
   "source": [
    "soft_scaler = StandardScaler()\n",
    "ml_data['Total_Price'] = soft_scaler.fit_transform(ml_data[['Total_Price']] )\n",
    "ml_data['INT_SQFT'] = soft_scaler.fit_transform(ml_data[['INT_SQFT']] )"
   ]
  },
  {
   "cell_type": "markdown",
   "id": "f90bab2f-f469-4cb2-9e07-0f1cac474a43",
   "metadata": {},
   "source": [
    "### Here the final preprocessed ml_data is taken into two different data variable, the 95% of the data will be used for the ml model and the remaining data will be used for the ml prediction"
   ]
  },
  {
   "cell_type": "code",
   "execution_count": null,
   "id": "ccf492a7-df9f-43f9-a4ef-375df518a981",
   "metadata": {},
   "outputs": [],
   "source": [
    "ml_data_updated = ml_data.iloc[1:6700,:]\n",
    "test_data = ml_data.iloc[6701:,:]"
   ]
  },
  {
   "cell_type": "code",
   "execution_count": null,
   "id": "6fccdfcd-b2ae-4abb-a462-c5a15f2ac83d",
   "metadata": {},
   "outputs": [],
   "source": [
    "ml_data_updated"
   ]
  },
  {
   "cell_type": "code",
   "execution_count": null,
   "id": "aa6c1968-565a-40b0-b6f3-c92fabb01e60",
   "metadata": {},
   "outputs": [],
   "source": [
    "x = ml_data_updated.iloc[:,0:16]\n",
    "y=ml_data_updated.iloc[:,16]"
   ]
  },
  {
   "cell_type": "code",
   "execution_count": null,
   "id": "387913ed-8bc8-4246-9da8-0fa3b31110f3",
   "metadata": {},
   "outputs": [],
   "source": [
    "x"
   ]
  },
  {
   "cell_type": "code",
   "execution_count": null,
   "id": "120f9651-4f6f-4d29-b23a-69a4837e4db2",
   "metadata": {},
   "outputs": [],
   "source": [
    "x_train, x_test, y_train , y_test = train_test_split(x, y, test_size=0.25, random_state=42)"
   ]
  },
  {
   "cell_type": "code",
   "execution_count": null,
   "id": "8a6e4126-25a1-450d-8966-7b1fa4f5233e",
   "metadata": {},
   "outputs": [],
   "source": [
    "x_train.shape, x_test.shape, y_train.shape, y_test.shape"
   ]
  },
  {
   "cell_type": "code",
   "execution_count": null,
   "id": "edf178c6-1dd3-4bc0-8bbe-b785aed2efc0",
   "metadata": {},
   "outputs": [],
   "source": [
    "print(x_test)"
   ]
  },
  {
   "cell_type": "code",
   "execution_count": null,
   "id": "5b9e691d-23fb-428d-a5c4-2ee227125810",
   "metadata": {},
   "outputs": [],
   "source": [
    "model = LinearRegression()\n",
    "model.fit(x_train, y_train)"
   ]
  },
  {
   "cell_type": "code",
   "execution_count": null,
   "id": "4bc2f1e2-1e70-429b-8bbb-be70a94bc057",
   "metadata": {},
   "outputs": [],
   "source": [
    "y_pred = model.predict(x_test)"
   ]
  },
  {
   "cell_type": "code",
   "execution_count": null,
   "id": "cb267874-db8a-436d-89c1-0a12d0b95bb8",
   "metadata": {},
   "outputs": [],
   "source": [
    "y_pred"
   ]
  },
  {
   "cell_type": "code",
   "execution_count": null,
   "id": "bb7f0892-23bc-4a1e-bdfc-ae7f1e483809",
   "metadata": {},
   "outputs": [],
   "source": [
    "y_pred.shape"
   ]
  },
  {
   "cell_type": "markdown",
   "id": "6d254863-e1ac-4149-97fb-c6496e91fde9",
   "metadata": {},
   "source": [
    "### In Regression accuracy from the Sklearn wont worry, so we will be proceeding with the R2_Score, as R2_Score is similar to the accuracy score. For manually calculating the Accuracy_Score there is an another method by calculating the mean squared error and subtracting it by 1 we will get the accuracy of the model. In the Below output we can see that the R2_Score and the Accuracy is the same as we know that both have the same function to show the accuracy of the model"
   ]
  },
  {
   "cell_type": "markdown",
   "id": "57dd9d01-cd78-4660-9be4-6a27e515017d",
   "metadata": {},
   "source": [
    "### Here we got the accuracy value as round of 79%, which is a good score for predicting the total price of the house"
   ]
  },
  {
   "cell_type": "code",
   "execution_count": null,
   "id": "3af4cbb6-c62e-4218-9730-3ba251d2be22",
   "metadata": {},
   "outputs": [],
   "source": [
    "r2 = r2_score(y_test, y_pred)\n",
    "print(f'The R2 Score for the Linear Regression for the Given Chennai House Price Dataset is {r2*100}')"
   ]
  },
  {
   "cell_type": "code",
   "execution_count": null,
   "id": "8750a33c-26ba-4c76-a99b-4528d6527a65",
   "metadata": {},
   "outputs": [],
   "source": [
    "acc = 1 - mean_squared_error(y_test, y_pred)\n",
    "print(f'The Accuracy Score for the Linear Regression for the Given Chennai House Price Dataset is {acc}')"
   ]
  },
  {
   "cell_type": "markdown",
   "id": "8f1010c5-b9a6-4012-b4fb-828429959328",
   "metadata": {},
   "source": [
    "### The Test_Data is being used for the Model Prediction to see how well the model is predicting the output based on the given input features"
   ]
  },
  {
   "cell_type": "code",
   "execution_count": null,
   "id": "5b1d16ae-636c-4ceb-aece-094ebe9c411c",
   "metadata": {},
   "outputs": [],
   "source": [
    "test_data"
   ]
  },
  {
   "cell_type": "code",
   "execution_count": null,
   "id": "504a9bb4-65d9-41d7-b4c5-0d022d74ef75",
   "metadata": {},
   "outputs": [],
   "source": [
    "test_data = test_data.drop('Total_Price', axis=1)"
   ]
  },
  {
   "cell_type": "code",
   "execution_count": null,
   "id": "4f1a36aa-555f-4d5b-99a9-990bdb591f8e",
   "metadata": {},
   "outputs": [],
   "source": [
    "unscaled_predictions = soft_scaler.inverse_transform(model.predict(test_data).reshape(-1, 1))\n",
    "unscaled_predictions"
   ]
  }
 ],
 "metadata": {
  "kernelspec": {
   "display_name": "Python 3 (ipykernel)",
   "language": "python",
   "name": "python3"
  },
  "language_info": {
   "codemirror_mode": {
    "name": "ipython",
    "version": 3
   },
   "file_extension": ".py",
   "mimetype": "text/x-python",
   "name": "python",
   "nbconvert_exporter": "python",
   "pygments_lexer": "ipython3",
   "version": "3.12.4"
  }
 },
 "nbformat": 4,
 "nbformat_minor": 5
}
